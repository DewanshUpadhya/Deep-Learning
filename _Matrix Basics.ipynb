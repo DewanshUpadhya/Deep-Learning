{
 "cells": [
  {
   "cell_type": "code",
   "execution_count": 1,
   "id": "f8d77bef",
   "metadata": {},
   "outputs": [],
   "source": [
    "import numpy as np "
   ]
  },
  {
   "cell_type": "code",
   "execution_count": 3,
   "id": "966cffe5",
   "metadata": {},
   "outputs": [],
   "source": [
    "revenue = np.array ([[180,200,220],[24,36,40],[12,18,20]])\n",
    "expenses = np.array([[80,90,100],[10,16,20],[8,10,10]])"
   ]
  },
  {
   "cell_type": "code",
   "execution_count": 4,
   "id": "a61fba45",
   "metadata": {},
   "outputs": [],
   "source": [
    "profit = revenue - expenses"
   ]
  },
  {
   "cell_type": "code",
   "execution_count": 5,
   "id": "5dedee59",
   "metadata": {},
   "outputs": [
    {
     "data": {
      "text/plain": [
       "array([[100, 110, 120],\n",
       "       [ 14,  20,  20],\n",
       "       [  4,   8,  10]])"
      ]
     },
     "execution_count": 5,
     "metadata": {},
     "output_type": "execute_result"
    }
   ],
   "source": [
    "profit"
   ]
  },
  {
   "cell_type": "code",
   "execution_count": 6,
   "id": "c2aa3c2e",
   "metadata": {},
   "outputs": [],
   "source": [
    "price_per_unit = np.array([1000,400,1200])\n",
    "unit = np.array([[30,40,50],[5,10,15],[2,5,7]])"
   ]
  },
  {
   "cell_type": "code",
   "execution_count": 7,
   "id": "663cd362",
   "metadata": {},
   "outputs": [
    {
     "data": {
      "text/plain": [
       "array([[30000, 16000, 60000],\n",
       "       [ 5000,  4000, 18000],\n",
       "       [ 2000,  2000,  8400]])"
      ]
     },
     "execution_count": 7,
     "metadata": {},
     "output_type": "execute_result"
    }
   ],
   "source": [
    "price_per_unit*unit"
   ]
  },
  {
   "cell_type": "code",
   "execution_count": 9,
   "id": "7a1c3dc8",
   "metadata": {},
   "outputs": [
    {
     "data": {
      "text/plain": [
       "array([34400, 50000, 64400])"
      ]
     },
     "execution_count": 9,
     "metadata": {},
     "output_type": "execute_result"
    }
   ],
   "source": [
    "np.dot(price_per_unit,unit)"
   ]
  },
  {
   "cell_type": "code",
   "execution_count": 10,
   "id": "dc14e02a",
   "metadata": {},
   "outputs": [],
   "source": [
    "revenues_usd = np.array([[200,220,250],[68,79,105],[110,140,180],[80,85,90]])"
   ]
  },
  {
   "cell_type": "code",
   "execution_count": 11,
   "id": "56ac4e4f",
   "metadata": {},
   "outputs": [],
   "source": [
    "usd_to_inr_rate = 75"
   ]
  },
  {
   "cell_type": "code",
   "execution_count": 12,
   "id": "f865ecbc",
   "metadata": {},
   "outputs": [],
   "source": [
    "# Convert revenues to Indian Rupees\n",
    "revenues_inr = revenues_usd * usd_to_inr_rate"
   ]
  },
  {
   "cell_type": "code",
   "execution_count": 14,
   "id": "fe92f002",
   "metadata": {},
   "outputs": [
    {
     "name": "stdout",
     "output_type": "stream",
     "text": [
      "Revenues in USD: [[200 220 250]\n",
      " [ 68  79 105]\n",
      " [110 140 180]\n",
      " [ 80  85  90]]\n",
      "Revenues in INR: [[15000 16500 18750]\n",
      " [ 5100  5925  7875]\n",
      " [ 8250 10500 13500]\n",
      " [ 6000  6375  6750]]\n"
     ]
    }
   ],
   "source": [
    "print(\"Revenues in USD:\", revenues_usd)\n",
    "print(\"Revenues in INR:\", revenues_inr)"
   ]
  },
  {
   "cell_type": "code",
   "execution_count": 16,
   "id": "8db9e6a0",
   "metadata": {},
   "outputs": [],
   "source": [
    "flowers_sold = np.array([[50,60,25],[10,13,5],[40,70,52]])\n",
    "prices_per_flower = np.array([20,30,15])"
   ]
  },
  {
   "cell_type": "code",
   "execution_count": 19,
   "id": "291ab254",
   "metadata": {},
   "outputs": [],
   "source": [
    "# Calculate total sales for each month\n",
    "total_sales = np.dot(prices_per_flower,flowers_sold)"
   ]
  },
  {
   "cell_type": "code",
   "execution_count": 20,
   "id": "b6822169",
   "metadata": {},
   "outputs": [
    {
     "name": "stdout",
     "output_type": "stream",
     "text": [
      "Total sales for Month 1: $1900\n",
      "Total sales for Month 2: $2640\n",
      "Total sales for Month 3: $1430\n"
     ]
    }
   ],
   "source": [
    "for i, month_sales in enumerate(total_sales):\n",
    "    print(f\"Total sales for Month {i + 1}: ${month_sales}\")"
   ]
  }
 ],
 "metadata": {
  "kernelspec": {
   "display_name": "Python 3 (ipykernel)",
   "language": "python",
   "name": "python3"
  },
  "language_info": {
   "codemirror_mode": {
    "name": "ipython",
    "version": 3
   },
   "file_extension": ".py",
   "mimetype": "text/x-python",
   "name": "python",
   "nbconvert_exporter": "python",
   "pygments_lexer": "ipython3",
   "version": "3.10.9"
  }
 },
 "nbformat": 4,
 "nbformat_minor": 5
}
