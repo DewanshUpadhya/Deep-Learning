{
 "cells": [
  {
   "cell_type": "markdown",
   "id": "380903c8",
   "metadata": {},
   "source": [
    "# Sigmoid Function"
   ]
  },
  {
   "cell_type": "markdown",
   "id": "95a6fd54",
   "metadata": {},
   "source": [
    "The sigmoid function always returns an output between 0 and 1."
   ]
  },
  {
   "cell_type": "code",
   "execution_count": 2,
   "id": "f7b75755",
   "metadata": {},
   "outputs": [],
   "source": [
    "import math\n",
    "\n",
    "def sigmoid(x):\n",
    "    return 1 / (1+ math.exp(-x))"
   ]
  },
  {
   "cell_type": "code",
   "execution_count": 4,
   "id": "504d418d",
   "metadata": {},
   "outputs": [
    {
     "data": {
      "text/plain": [
       "1.0"
      ]
     },
     "execution_count": 4,
     "metadata": {},
     "output_type": "execute_result"
    }
   ],
   "source": [
    "sigmoid(100)"
   ]
  },
  {
   "cell_type": "code",
   "execution_count": 5,
   "id": "71857765",
   "metadata": {},
   "outputs": [
    {
     "data": {
      "text/plain": [
       "0.7310585786300049"
      ]
     },
     "execution_count": 5,
     "metadata": {},
     "output_type": "execute_result"
    }
   ],
   "source": [
    "sigmoid (1)"
   ]
  },
  {
   "cell_type": "code",
   "execution_count": 6,
   "id": "484d03b1",
   "metadata": {},
   "outputs": [
    {
     "data": {
      "text/plain": [
       "4.780892883885469e-25"
      ]
     },
     "execution_count": 6,
     "metadata": {},
     "output_type": "execute_result"
    }
   ],
   "source": [
    "sigmoid (-56)"
   ]
  },
  {
   "cell_type": "code",
   "execution_count": 7,
   "id": "e7fd02ae",
   "metadata": {},
   "outputs": [
    {
     "data": {
      "text/plain": [
       "0.6224593312018546"
      ]
     },
     "execution_count": 7,
     "metadata": {},
     "output_type": "execute_result"
    }
   ],
   "source": [
    "sigmoid (0.5)"
   ]
  },
  {
   "cell_type": "markdown",
   "id": "2af3e5c6",
   "metadata": {},
   "source": [
    "# tanh Function"
   ]
  },
  {
   "cell_type": "markdown",
   "id": "c9fdcb14",
   "metadata": {},
   "source": [
    "It transforms input values to produce output values between -1 and 1."
   ]
  },
  {
   "cell_type": "code",
   "execution_count": 9,
   "id": "76f649dc",
   "metadata": {},
   "outputs": [],
   "source": [
    "def tanh(x):\n",
    "    return (math.exp(x) - math.exp(-x)) / (math.exp(x) + math.exp(-x))"
   ]
  },
  {
   "cell_type": "code",
   "execution_count": 10,
   "id": "c0f53c91",
   "metadata": {},
   "outputs": [
    {
     "data": {
      "text/plain": [
       "-1.0"
      ]
     },
     "execution_count": 10,
     "metadata": {},
     "output_type": "execute_result"
    }
   ],
   "source": [
    "tanh(-56)"
   ]
  },
  {
   "cell_type": "code",
   "execution_count": 11,
   "id": "e53ce40d",
   "metadata": {},
   "outputs": [
    {
     "data": {
      "text/plain": [
       "1.0"
      ]
     },
     "execution_count": 11,
     "metadata": {},
     "output_type": "execute_result"
    }
   ],
   "source": [
    "tanh(50)"
   ]
  },
  {
   "cell_type": "code",
   "execution_count": 12,
   "id": "7d09acef",
   "metadata": {},
   "outputs": [
    {
     "data": {
      "text/plain": [
       "0.7615941559557649"
      ]
     },
     "execution_count": 12,
     "metadata": {},
     "output_type": "execute_result"
    }
   ],
   "source": [
    "tanh(1)"
   ]
  },
  {
   "cell_type": "markdown",
   "id": "01cca227",
   "metadata": {},
   "source": [
    "# ReLU Function"
   ]
  },
  {
   "cell_type": "markdown",
   "id": "b8c90747",
   "metadata": {},
   "source": [
    "It's a piecewise linear function that outputs the input directly if it's positive, and zero otherwise."
   ]
  },
  {
   "cell_type": "code",
   "execution_count": 13,
   "id": "12653b76",
   "metadata": {},
   "outputs": [],
   "source": [
    "def relu(x):\n",
    "    return max (0,x)"
   ]
  },
  {
   "cell_type": "code",
   "execution_count": 14,
   "id": "a85b15f0",
   "metadata": {},
   "outputs": [
    {
     "data": {
      "text/plain": [
       "0"
      ]
     },
     "execution_count": 14,
     "metadata": {},
     "output_type": "execute_result"
    }
   ],
   "source": [
    "relu(-7)"
   ]
  },
  {
   "cell_type": "code",
   "execution_count": 15,
   "id": "1ad21dbc",
   "metadata": {},
   "outputs": [
    {
     "data": {
      "text/plain": [
       "1"
      ]
     },
     "execution_count": 15,
     "metadata": {},
     "output_type": "execute_result"
    }
   ],
   "source": [
    "relu(1)"
   ]
  },
  {
   "cell_type": "code",
   "execution_count": 16,
   "id": "2a9270da",
   "metadata": {},
   "outputs": [
    {
     "data": {
      "text/plain": [
       "6"
      ]
     },
     "execution_count": 16,
     "metadata": {},
     "output_type": "execute_result"
    }
   ],
   "source": [
    "relu(6)"
   ]
  },
  {
   "cell_type": "code",
   "execution_count": 17,
   "id": "6a8bb4e6",
   "metadata": {},
   "outputs": [
    {
     "data": {
      "text/plain": [
       "0"
      ]
     },
     "execution_count": 17,
     "metadata": {},
     "output_type": "execute_result"
    }
   ],
   "source": [
    "relu(-8)"
   ]
  },
  {
   "cell_type": "markdown",
   "id": "95748bf2",
   "metadata": {},
   "source": [
    "# Leaky ReLU Function"
   ]
  },
  {
   "cell_type": "markdown",
   "id": "f570eb3d",
   "metadata": {},
   "source": [
    "Leaky ReLU (Leaky Rectified Linear Unit) is a type of activation function based on a ReLU, but it has a small slope for negative values instead of a flat slope."
   ]
  },
  {
   "cell_type": "code",
   "execution_count": 19,
   "id": "4fc93698",
   "metadata": {},
   "outputs": [],
   "source": [
    "def leaky_relu(x):\n",
    "    return max(0.1*x,x)"
   ]
  },
  {
   "cell_type": "code",
   "execution_count": 20,
   "id": "030c74cc",
   "metadata": {},
   "outputs": [
    {
     "data": {
      "text/plain": [
       "-10.0"
      ]
     },
     "execution_count": 20,
     "metadata": {},
     "output_type": "execute_result"
    }
   ],
   "source": [
    "leaky_relu(-100)"
   ]
  },
  {
   "cell_type": "code",
   "execution_count": 21,
   "id": "5a423a3b",
   "metadata": {},
   "outputs": [
    {
     "data": {
      "text/plain": [
       "8"
      ]
     },
     "execution_count": 21,
     "metadata": {},
     "output_type": "execute_result"
    }
   ],
   "source": [
    "leaky_relu(8)"
   ]
  }
 ],
 "metadata": {
  "kernelspec": {
   "display_name": "Python 3 (ipykernel)",
   "language": "python",
   "name": "python3"
  },
  "language_info": {
   "codemirror_mode": {
    "name": "ipython",
    "version": 3
   },
   "file_extension": ".py",
   "mimetype": "text/x-python",
   "name": "python",
   "nbconvert_exporter": "python",
   "pygments_lexer": "ipython3",
   "version": "3.10.9"
  }
 },
 "nbformat": 4,
 "nbformat_minor": 5
}
